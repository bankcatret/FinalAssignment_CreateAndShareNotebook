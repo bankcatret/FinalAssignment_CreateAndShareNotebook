{
 "cells": [
  {
   "cell_type": "markdown",
   "id": "2276c7fd-6910-4231-9c60-862b407c910e",
   "metadata": {},
   "source": [
    "# Data Science Tools and Ecosystem"
   ]
  },
  {
   "cell_type": "markdown",
   "id": "2a809e11-3f4e-417a-8ec7-148926b99dff",
   "metadata": {},
   "source": [
    "In this notebook, Data Science Tools and Ecosystem are summarized."
   ]
  },
  {
   "cell_type": "markdown",
   "id": "091e69a0-4ab6-4b33-8b9d-ac945833da5f",
   "metadata": {},
   "source": [
    "**Objectives:**\n",
    "* List popular languages for Data Science\n",
    "* List commonly used libraries for Data Scientists\n",
    "* List development environment open source tools used in Data Science\n",
    "* Demonstration of evaluating arithmetic expressions in Python"
   ]
  },
  {
   "cell_type": "markdown",
   "id": "0c440c6d-7c0e-43ce-9885-80a74de2626f",
   "metadata": {},
   "source": [
    "Some of the popular languages that Data Scientists use are:"
   ]
  },
  {
   "cell_type": "markdown",
   "id": "d0be0470-9135-4b50-914c-4e8e2c3ec816",
   "metadata": {},
   "source": [
    "1. Python\n",
    "2. R\n",
    "3. SQL"
   ]
  },
  {
   "cell_type": "markdown",
   "id": "17a0e9fb-9339-445b-91b4-2e8fed0ee7de",
   "metadata": {},
   "source": [
    "Some of the commonly used libraries used by Data Scientists include:"
   ]
  },
  {
   "cell_type": "markdown",
   "id": "8153de68-e629-47e8-9916-035b0268377e",
   "metadata": {},
   "source": [
    "1. Pandas\n",
    "1. NumPy\n",
    "1. Matplotlib\n",
    "1. Seaborn\n",
    "1. Scikit-learn\n",
    "1. Keras\n",
    "1. Tensorflow\n",
    "1. ggplot2"
   ]
  },
  {
   "cell_type": "markdown",
   "id": "05c08505-7323-4adc-8736-65f9d2aa989f",
   "metadata": {},
   "source": [
    "| Data Science Tools |\n",
    "|--- |\n",
    "| Visual Studio |\n",
    "| RStudio |\n",
    "| Jupyter Notebook |"
   ]
  },
  {
   "cell_type": "markdown",
   "id": "73f13f89-db75-4c8a-bae3-c208fac5aee6",
   "metadata": {},
   "source": [
    "### Below are a few examples of evaluating arithmetic expressions in Python."
   ]
  },
  {
   "cell_type": "code",
   "execution_count": 3,
   "id": "e97a546f-4d11-4406-aadc-7e908045434c",
   "metadata": {},
   "outputs": [
    {
     "data": {
      "text/plain": [
       "17"
      ]
     },
     "execution_count": 3,
     "metadata": {},
     "output_type": "execute_result"
    }
   ],
   "source": [
    "# This is a simple arithmetic expression to multiply then add integers.\n",
    "(3*4)+5"
   ]
  },
  {
   "cell_type": "code",
   "execution_count": 8,
   "id": "a6e4cc01-8f5f-438a-bbec-4412d1ad7786",
   "metadata": {},
   "outputs": [
    {
     "data": {
      "text/plain": [
       "3.3333333333333335"
      ]
     },
     "execution_count": 8,
     "metadata": {},
     "output_type": "execute_result"
    }
   ],
   "source": [
    "# This will convert 200 minutes to hours by dividing by 60\n",
    "(200/60)"
   ]
  },
  {
   "cell_type": "markdown",
   "id": "dbab36b8-4bcf-411d-9db7-381de55d2116",
   "metadata": {},
   "source": [
    "## Author"
   ]
  },
  {
   "cell_type": "markdown",
   "id": "81e05df3-ead0-488b-b415-fafe5aefa3bd",
   "metadata": {},
   "source": [
    "Chayanun Wachirapoka"
   ]
  },
  {
   "cell_type": "code",
   "execution_count": null,
   "id": "f1e98add-9046-49d9-bce4-4844a053fe59",
   "metadata": {},
   "outputs": [],
   "source": []
  }
 ],
 "metadata": {
  "kernelspec": {
   "display_name": "Python 3 (ipykernel)",
   "language": "python",
   "name": "python3"
  },
  "language_info": {
   "codemirror_mode": {
    "name": "ipython",
    "version": 3
   },
   "file_extension": ".py",
   "mimetype": "text/x-python",
   "name": "python",
   "nbconvert_exporter": "python",
   "pygments_lexer": "ipython3",
   "version": "3.10.9"
  }
 },
 "nbformat": 4,
 "nbformat_minor": 5
}
